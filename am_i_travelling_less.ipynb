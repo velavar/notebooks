{
 "cells": [
  {
   "cell_type": "markdown",
   "metadata": {},
   "source": [
    "# Am I travelling less? "
   ]
  },
  {
   "cell_type": "markdown",
   "metadata": {},
   "source": [
    "In a middle of a playful spat with the spouse, I mentioned how I - an erstwhile, avid traveller - had been travelling less ever since I met him. True to nature, he vehemently disagreed so I decided to pull out my Google Timeline data and prove him wrong with stats. "
   ]
  },
  {
   "cell_type": "markdown",
   "metadata": {},
   "source": [
    "I like to keep the location on my phone turned on - another thing we disagree about but that is a matter for another day. For now, I headed on over to Google site and downloaded the timeline data. It turned out to be a huge file (0.5GB) for only 4 years worth of data, which did give me slight pause about my location tracking preferences but I'll worry about that later :P    "
   ]
  },
  {
   "cell_type": "code",
   "execution_count": 1,
   "metadata": {},
   "outputs": [],
   "source": [
    "# Importing the necessary packages and settings \n",
    "import pandas as pd\n",
    "import numpy as np\n",
    "import re\n",
    "import datetime\n",
    "import itertools\n",
    "import matplotlib\n",
    "# matplotlib.use(\"Qt5Agg\")\n",
    "import matplotlib.pyplot as plt \n",
    "\n",
    "import pymc3 as pm\n",
    "import theano.tensor as tt\n",
    "\n",
    "import seaborn as sns\n",
    "from IPython.core.pylabtools import figsize\n",
    "\n",
    "from geopy.geocoders import Nominatim \n",
    "from geopy.extra.rate_limiter import RateLimiter\n",
    "\n",
    "sns.set() \n",
    "pd.set_option('display.max_colwidth', -1) \n",
    "\n",
    "geolocator = Nominatim(user_agent=\"test\")"
   ]
  },
  {
   "cell_type": "code",
   "execution_count": 3,
   "metadata": {},
   "outputs": [],
   "source": [
    "# Saving the latitude, longitude and timestamp data into a dataframe \n",
    "# I haven't included it but I had to use file operations to read the giant file \n",
    "# that I downloaded from Google and retrieve just the lines I needed and save to a separate file \n",
    "\n",
    "timestampList = []\n",
    "latList = []\n",
    "longList = []\n",
    "\n",
    "with open(\"/data/end_file.txt\", 'r') as openfileobject:\n",
    "    lines = openfileobject.readlines()\n",
    "    timestamplines = lines[0::3]\n",
    "    for line in timestamplines:\n",
    "        timestampMs = re.search(r':\\s\\\"(.*?)\\\",\\n$', line, re.M)\n",
    "        if timestampMs is not None:\n",
    "            timestampList.append(timestampMs.groups()[0])\n",
    "    latlines = lines[1::3]\n",
    "    for line in latlines:\n",
    "        latitudeE7 = re.search(r':\\s(.*?),\\n$', line, re.M)\n",
    "        if latitudeE7 is not None: \n",
    "            latList.append(latitudeE7.groups()[0])\n",
    "    longlines = lines[2::3]\n",
    "    for line in longlines:\n",
    "        longitudeE7 = re.search(r':\\s(.*?),\\n$', line, re.M)\n",
    "        if longitudeE7 is not None:\n",
    "            longList.append(longitudeE7.groups()[0])"
   ]
  },
  {
   "cell_type": "code",
   "execution_count": 8,
   "metadata": {},
   "outputs": [],
   "source": [
    "# This is the part where I used geopy to give me the address/location for all the lat-long coordinates that I have \n",
    "# With my data, it took roughly 3 hours to run\n",
    "# I later saved this file to a pickle file for easy access \n",
    "\n",
    "# # location = geolocator.reverse(\"28.4433025,77.0752722\") \n",
    "# from tqdm import tqdm\n",
    "# tqdm.pandas() \n",
    "# geocode = RateLimiter(geolocator.reverse, min_delay_seconds=1)\n",
    "# place_list['location'] = place_list['str'].progress_apply(geocode) \n",
    "\n",
    "# place_list.to_pickle('place_list.pkl')"
   ]
  },
  {
   "cell_type": "code",
   "execution_count": 4,
   "metadata": {},
   "outputs": [],
   "source": [
    "place_list = pd.read_pickle('place_list.pkl')"
   ]
  },
  {
   "cell_type": "code",
   "execution_count": 5,
   "metadata": {},
   "outputs": [],
   "source": [
    "# df contains all the latitude, longitude and the timestamp data \n",
    "# below are some operations to retrieve the year, month etc. from the data \n",
    "\n",
    "df = pd.DataFrame()\n",
    "df['ts'] = timestampList\n",
    "df['lat'] = latList\n",
    "df['long'] = longList\n",
    "\n",
    "df['lat1'] = df['lat'].apply(lambda x: pd.to_numeric(x)/10000000)\n",
    "df['long1'] = df['long'].apply(lambda x: pd.to_numeric(x)/10000000) \n",
    "\n",
    "df['lat_uni'] = df['lat'].apply(lambda x: np.floor(pd.to_numeric(x)/100000))\n",
    "df['long_uni'] = df['long'].apply(lambda x: np.floor(pd.to_numeric(x)/100000))\n",
    "\n",
    "df['ts1'] = df['ts'].apply(lambda x: datetime.datetime.fromtimestamp(pd.to_numeric(x)/1000.0))\n",
    "df['year'] = df['ts1'].apply(lambda x: x.year)\n",
    "df['qtr'] = df['ts1'].apply(lambda x: x.quarter)\n",
    "df['month'] = df['ts1'].apply(lambda x: x.month) \n",
    "\n",
    "df['str'] = df['lat1'].apply(str) + ',' + df['long1'].apply(str) "
   ]
  },
  {
   "cell_type": "code",
   "execution_count": 6,
   "metadata": {},
   "outputs": [],
   "source": [
    "# The API didn't return the locations for a few of my coordinates so I need to drop the None entries  \n",
    "place_list.dropna(subset= ['location'], inplace=True) \n",
    "place_list['str_location'] = place_list['location'].apply(lambda x: x[0]) \n",
    "place_list.dropna(subset= ['str_location'], inplace=True)"
   ]
  },
  {
   "cell_type": "code",
   "execution_count": 8,
   "metadata": {},
   "outputs": [],
   "source": [
    "# Splitting the location to a list so I can access the separate elements \n",
    "place_list['address'] = place_list['str_location'].str.split(',').tolist() "
   ]
  },
  {
   "cell_type": "code",
   "execution_count": 9,
   "metadata": {},
   "outputs": [],
   "source": [
    "# The city is in the 5th from the last element in the list \n",
    "# In the few special cases where there are less than 5 elements, I'm considering the first element to be the city\n",
    "place_list['city'] = place_list['address'].apply(lambda x: x[-5] if (len(x)>=5) else x[0]) \n",
    "place_list['country'] = place_list['address'].apply(lambda x: x[-1])"
   ]
  },
  {
   "cell_type": "code",
   "execution_count": 10,
   "metadata": {},
   "outputs": [],
   "source": [
    "# The final_df combine my timestamps with the actual cities and countries so I can count \n",
    "# the unique places that I've been to \n",
    "\n",
    "final_df = pd.merge(df, place_list[['lat_uni', 'long_uni', 'city', 'country']], \n",
    "              how='left', on=['lat_uni', 'long_uni'])"
   ]
  },
  {
   "cell_type": "code",
   "execution_count": 11,
   "metadata": {},
   "outputs": [],
   "source": [
    "# I'm creating a summary DF which will store the unique cities that I've been to by month and year \n",
    "df_summary = final_df.drop_duplicates(subset=['year', 'month', 'city']).groupby(['year','month']).size().reset_index()\n",
    "df_summary['yr_mnth'] = df_summary['year'].apply(str) + \"-\" + df_summary['month'].apply(str)\n",
    "\n"
   ]
  },
  {
   "cell_type": "code",
   "execution_count": 12,
   "metadata": {
    "scrolled": false
   },
   "outputs": [
    {
     "data": {
      "image/png": "[encoded data removed]",
      "text/plain": [
       "<Figure size 1080x720 with 1 Axes>"
      ]
     },
     "metadata": {
      "needs_background": "light"
     },
     "output_type": "display_data"
    }
   ],
   "source": [
    "# Plttting the summary for a rough visual idea of my travel history to unique places every month \n",
    "plt.figure(figsize=(15, 10))\n",
    "ax = sns.barplot(x=df_summary.yr_mnth, y=df_summary.iloc[:, 2], data=df_summary,  color = 'darkgreen', alpha=0.7)\n",
    "plt.xticks(rotation=90)\n",
    "plt.show()"
   ]
  },
  {
   "cell_type": "markdown",
   "metadata": {},
   "source": [
    "Oh noes! It looks like he may be right at first glance :( I'm still going to try to find a switchpoint statistically because I am working through the textbook here https://github.com/CamDavidsonPilon/Probabilistic-Programming-and-Bayesian-Methods-for-Hackers and this is a great opportunity to try out the PyMC3 package. "
   ]
  },
  {
   "cell_type": "markdown",
   "metadata": {},
   "source": [
    "The counts of places visited every month can be modelled as a Poisson distribution. For the prior, *tau* is the the switchpoint which could've have occurred at any point from Month 1 to Month 62.  "
   ]
  },
  {
   "cell_type": "code",
   "execution_count": 13,
   "metadata": {},
   "outputs": [],
   "source": [
    "with pm.Model() as model:\n",
    "    alpha = 1.0 / df_summary.iloc[:, 2].mean()  \n",
    "    lambda_1 = pm.Exponential(\"lambda_1\", alpha)\n",
    "    lambda_2 = pm.Exponential(\"lambda_2\", alpha)\n",
    "\n",
    "    tau = pm.DiscreteUniform(\"tau\", lower=0, upper=61) \n",
    "\n",
    "with model:\n",
    "    idx = np.arange(62) # Index\n",
    "    lambda_ = pm.math.switch(tau > idx, lambda_1, lambda_2) \n",
    "    \n",
    "with model:\n",
    "    observation = pm.Poisson(\"obs\", lambda_, observed=df_summary.iloc[:, 2]) \n",
    "    \n"
   ]
  },
  {
   "cell_type": "code",
   "execution_count": 14,
   "metadata": {},
   "outputs": [
    {
     "name": "stderr",
     "output_type": "stream",
     "text": [
      "Multiprocess sampling (2 chains in 2 jobs)\n",
      "CompoundStep\n",
      ">Metropolis: [tau]\n",
      ">Metropolis: [lambda_2]\n",
      ">Metropolis: [lambda_1]\n",
      "Sampling 2 chains: 100%|██████████| 30000/30000 [00:09<00:00, 3223.96draws/s]\n",
      "The number of effective samples is smaller than 25% for some parameters.\n"
     ]
    }
   ],
   "source": [
    "with model:\n",
    "    step = pm.Metropolis()\n",
    "    trace = pm.sample(10000, tune=5000, step=step)\n",
    "\n",
    "    \n",
    "lambda_1_samples = trace['lambda_1']\n",
    "lambda_2_samples = trace['lambda_2']\n",
    "tau_samples = trace['tau'] "
   ]
  },
  {
   "cell_type": "code",
   "execution_count": 15,
   "metadata": {
    "scrolled": false
   },
   "outputs": [
    {
     "data": {
      "image/png": "[encoded data removed]",
      "text/plain": [
       "<Figure size 1080x936 with 3 Axes>"
      ]
     },
     "metadata": {
      "needs_background": "light"
     },
     "output_type": "display_data"
    }
   ],
   "source": [
    "figsize(15, 13)\n",
    "#histogram of the samples:\n",
    "\n",
    "ax = plt.subplot(311)\n",
    "ax.set_autoscaley_on(False)\n",
    "\n",
    "plt.hist(lambda_1_samples, histtype='stepfilled', bins=30, alpha=0.85,\n",
    "         label=\"posterior of $\\lambda_1$\", color=\"#A60628\", density=True)\n",
    "plt.legend(loc=\"upper left\")\n",
    "plt.title(r\"\"\"Posterior distributions of the variables\n",
    "    $\\lambda_1,\\;\\lambda_2,\\;\\tau$\"\"\")\n",
    "plt.xlabel(\"$\\lambda_1$ value\")\n",
    "\n",
    "ax = plt.subplot(312)\n",
    "ax.set_autoscaley_on(False)\n",
    "plt.hist(lambda_2_samples, histtype='stepfilled', bins=30, alpha=0.85,\n",
    "         label=\"posterior of $\\lambda_2$\", color=\"#7A68A6\", density=True)\n",
    "plt.legend(loc=\"upper left\")\n",
    "plt.xlabel(\"$\\lambda_2$ value\")\n",
    "\n",
    "plt.subplot(313)\n",
    "w = 1.0 / tau_samples.shape[0] * np.ones_like(tau_samples)\n",
    "plt.hist(tau_samples, bins=30, alpha=1,\n",
    "         label=r\"posterior of $\\tau$\",\n",
    "         color=\"#467821\", weights=w, rwidth=2.)\n",
    "\n",
    "plt.legend(loc=\"upper left\")\n",
    "plt.xlabel(r\"$\\tau$ (Months)\")\n",
    "plt.ylabel(\"probability\")\n",
    "plt.show()"
   ]
  },
  {
   "cell_type": "markdown",
   "metadata": {},
   "source": [
    "The *lambdas* are fairly different can can be seen from visual inspection of the trace plots. The switch itself appears to have occurred at around Month 45 which is July-2018 which is right before the time we got married as my husband gleefully reminded me. "
   ]
  },
  {
   "cell_type": "code",
   "execution_count": 40,
   "metadata": {},
   "outputs": [
    {
     "name": "stderr",
     "output_type": "stream",
     "text": [
      "No handles with labels found to put in legend.\n"
     ]
    },
    {
     "data": {
      "image/png": "[encoded data removed]",
      "text/plain": [
       "<Figure size 1080x720 with 1 Axes>"
      ]
     },
     "metadata": {
      "needs_background": "light"
     },
     "output_type": "display_data"
    }
   ],
   "source": [
    "\n",
    "figsize(15, 10)\n",
    "\n",
    "N = tau_samples.shape[0]\n",
    "expected_trips = np.zeros(62)\n",
    "for day in range(0, 62):\n",
    "    ix = day < tau_samples\n",
    "    expected_trips[day] = (lambda_1_samples[ix].sum()\n",
    "                                   + lambda_2_samples[~ix].sum()) / N\n",
    "\n",
    "\n",
    "plt.plot(range(62), expected_trips,  lw=4, color=\"#E24A33\")\n",
    "plt.xlim(0, 62)\n",
    "plt.xlabel(\"Month-Year\") \n",
    "plt.xticks(df_summary.index,df_summary[\"yr_mnth\"].values, rotation=90)\n",
    "\n",
    "plt.ylim(0, 500)\n",
    "plt.bar(np.arange(len(df_summary.iloc[:, 2])), df_summary.iloc[:, 2], color=\"#348ABD\", alpha=0.65)\n",
    "\n",
    "plt.legend(loc=\"upper left\");"
   ]
  },
  {
   "cell_type": "markdown",
   "metadata": {},
   "source": [
    "So he won. Whatever. "
   ]
  },
  {
   "cell_type": "markdown",
   "metadata": {},
   "source": [
    "## References: \n",
    "1. https://nbviewer.jupyter.org/github/CamDavidsonPilon/Probabilistic-Programming-and-Bayesian-Methods-for-Hackers/blob/master/Chapter1_Introduction/Ch1_Introduction_PyMC3.ipynb "
   ]
  },
  {
   "cell_type": "code",
   "execution_count": null,
   "metadata": {},
   "outputs": [],
   "source": []
  }
 ],
 "metadata": {
  "kernelspec": {
   "display_name": "Python 3",
   "language": "python",
   "name": "python3"
  },
  "language_info": {
   "codemirror_mode": {
    "name": "ipython",
    "version": 3
   },
   "file_extension": ".py",
   "mimetype": "text/x-python",
   "name": "python",
   "nbconvert_exporter": "python",
   "pygments_lexer": "ipython3",
   "version": "3.6.9"
  }
 },
 "nbformat": 4,
 "nbformat_minor": 2
}
